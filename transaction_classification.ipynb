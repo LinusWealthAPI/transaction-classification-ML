{
 "cells": [
  {
   "cell_type": "markdown",
   "metadata": {},
   "source": [
    "# Imports"
   ]
  },
  {
   "cell_type": "code",
   "execution_count": 3,
   "metadata": {},
   "outputs": [],
   "source": [
    "import pandas as pd\n",
    "from sklearn.model_selection import train_test_split\n",
    "from sklearn.feature_extraction.text import CountVectorizer\n",
    "from sklearn.linear_model import LogisticRegression\n",
    "from sklearn.metrics import accuracy_score, classification_report\n",
    "from sklearn.pipeline import Pipeline\n",
    "import joblib\n",
    "import os\n",
    "from datetime import datetime"
   ]
  },
  {
   "cell_type": "markdown",
   "metadata": {},
   "source": [
    "# Load training data"
   ]
  },
  {
   "cell_type": "code",
   "execution_count": 4,
   "metadata": {},
   "outputs": [],
   "source": [
    "df = pd.read_csv(\"transaction_data_small.csv\")"
   ]
  },
  {
   "cell_type": "markdown",
   "metadata": {},
   "source": [
    "# Train-test split"
   ]
  },
  {
   "cell_type": "code",
   "execution_count": 5,
   "metadata": {},
   "outputs": [],
   "source": [
    "X_train, X_test, y_train, y_test = train_test_split(\n",
    "    df['purpose'], df['category'], test_size=0.2, random_state=42\n",
    ")"
   ]
  },
  {
   "cell_type": "markdown",
   "metadata": {},
   "source": [
    "# Create and fit model"
   ]
  },
  {
   "cell_type": "code",
   "execution_count": 6,
   "metadata": {},
   "outputs": [
    {
     "data": {
      "text/html": [
       "<style>#sk-container-id-1 {color: black;}#sk-container-id-1 pre{padding: 0;}#sk-container-id-1 div.sk-toggleable {background-color: white;}#sk-container-id-1 label.sk-toggleable__label {cursor: pointer;display: block;width: 100%;margin-bottom: 0;padding: 0.3em;box-sizing: border-box;text-align: center;}#sk-container-id-1 label.sk-toggleable__label-arrow:before {content: \"▸\";float: left;margin-right: 0.25em;color: #696969;}#sk-container-id-1 label.sk-toggleable__label-arrow:hover:before {color: black;}#sk-container-id-1 div.sk-estimator:hover label.sk-toggleable__label-arrow:before {color: black;}#sk-container-id-1 div.sk-toggleable__content {max-height: 0;max-width: 0;overflow: hidden;text-align: left;background-color: #f0f8ff;}#sk-container-id-1 div.sk-toggleable__content pre {margin: 0.2em;color: black;border-radius: 0.25em;background-color: #f0f8ff;}#sk-container-id-1 input.sk-toggleable__control:checked~div.sk-toggleable__content {max-height: 200px;max-width: 100%;overflow: auto;}#sk-container-id-1 input.sk-toggleable__control:checked~label.sk-toggleable__label-arrow:before {content: \"▾\";}#sk-container-id-1 div.sk-estimator input.sk-toggleable__control:checked~label.sk-toggleable__label {background-color: #d4ebff;}#sk-container-id-1 div.sk-label input.sk-toggleable__control:checked~label.sk-toggleable__label {background-color: #d4ebff;}#sk-container-id-1 input.sk-hidden--visually {border: 0;clip: rect(1px 1px 1px 1px);clip: rect(1px, 1px, 1px, 1px);height: 1px;margin: -1px;overflow: hidden;padding: 0;position: absolute;width: 1px;}#sk-container-id-1 div.sk-estimator {font-family: monospace;background-color: #f0f8ff;border: 1px dotted black;border-radius: 0.25em;box-sizing: border-box;margin-bottom: 0.5em;}#sk-container-id-1 div.sk-estimator:hover {background-color: #d4ebff;}#sk-container-id-1 div.sk-parallel-item::after {content: \"\";width: 100%;border-bottom: 1px solid gray;flex-grow: 1;}#sk-container-id-1 div.sk-label:hover label.sk-toggleable__label {background-color: #d4ebff;}#sk-container-id-1 div.sk-serial::before {content: \"\";position: absolute;border-left: 1px solid gray;box-sizing: border-box;top: 0;bottom: 0;left: 50%;z-index: 0;}#sk-container-id-1 div.sk-serial {display: flex;flex-direction: column;align-items: center;background-color: white;padding-right: 0.2em;padding-left: 0.2em;position: relative;}#sk-container-id-1 div.sk-item {position: relative;z-index: 1;}#sk-container-id-1 div.sk-parallel {display: flex;align-items: stretch;justify-content: center;background-color: white;position: relative;}#sk-container-id-1 div.sk-item::before, #sk-container-id-1 div.sk-parallel-item::before {content: \"\";position: absolute;border-left: 1px solid gray;box-sizing: border-box;top: 0;bottom: 0;left: 50%;z-index: -1;}#sk-container-id-1 div.sk-parallel-item {display: flex;flex-direction: column;z-index: 1;position: relative;background-color: white;}#sk-container-id-1 div.sk-parallel-item:first-child::after {align-self: flex-end;width: 50%;}#sk-container-id-1 div.sk-parallel-item:last-child::after {align-self: flex-start;width: 50%;}#sk-container-id-1 div.sk-parallel-item:only-child::after {width: 0;}#sk-container-id-1 div.sk-dashed-wrapped {border: 1px dashed gray;margin: 0 0.4em 0.5em 0.4em;box-sizing: border-box;padding-bottom: 0.4em;background-color: white;}#sk-container-id-1 div.sk-label label {font-family: monospace;font-weight: bold;display: inline-block;line-height: 1.2em;}#sk-container-id-1 div.sk-label-container {text-align: center;}#sk-container-id-1 div.sk-container {/* jupyter's `normalize.less` sets `[hidden] { display: none; }` but bootstrap.min.css set `[hidden] { display: none !important; }` so we also need the `!important` here to be able to override the default hidden behavior on the sphinx rendered scikit-learn.org. See: https://github.com/scikit-learn/scikit-learn/issues/21755 */display: inline-block !important;position: relative;}#sk-container-id-1 div.sk-text-repr-fallback {display: none;}</style><div id=\"sk-container-id-1\" class=\"sk-top-container\"><div class=\"sk-text-repr-fallback\"><pre>Pipeline(steps=[(&#x27;count_vectorizer&#x27;, CountVectorizer()),\n",
       "                (&#x27;clf&#x27;, LogisticRegression(max_iter=1000))])</pre><b>In a Jupyter environment, please rerun this cell to show the HTML representation or trust the notebook. <br />On GitHub, the HTML representation is unable to render, please try loading this page with nbviewer.org.</b></div><div class=\"sk-container\" hidden><div class=\"sk-item sk-dashed-wrapped\"><div class=\"sk-label-container\"><div class=\"sk-label sk-toggleable\"><input class=\"sk-toggleable__control sk-hidden--visually\" id=\"sk-estimator-id-1\" type=\"checkbox\" ><label for=\"sk-estimator-id-1\" class=\"sk-toggleable__label sk-toggleable__label-arrow\">Pipeline</label><div class=\"sk-toggleable__content\"><pre>Pipeline(steps=[(&#x27;count_vectorizer&#x27;, CountVectorizer()),\n",
       "                (&#x27;clf&#x27;, LogisticRegression(max_iter=1000))])</pre></div></div></div><div class=\"sk-serial\"><div class=\"sk-item\"><div class=\"sk-estimator sk-toggleable\"><input class=\"sk-toggleable__control sk-hidden--visually\" id=\"sk-estimator-id-2\" type=\"checkbox\" ><label for=\"sk-estimator-id-2\" class=\"sk-toggleable__label sk-toggleable__label-arrow\">CountVectorizer</label><div class=\"sk-toggleable__content\"><pre>CountVectorizer()</pre></div></div></div><div class=\"sk-item\"><div class=\"sk-estimator sk-toggleable\"><input class=\"sk-toggleable__control sk-hidden--visually\" id=\"sk-estimator-id-3\" type=\"checkbox\" ><label for=\"sk-estimator-id-3\" class=\"sk-toggleable__label sk-toggleable__label-arrow\">LogisticRegression</label><div class=\"sk-toggleable__content\"><pre>LogisticRegression(max_iter=1000)</pre></div></div></div></div></div></div></div>"
      ],
      "text/plain": [
       "Pipeline(steps=[('count_vectorizer', CountVectorizer()),\n",
       "                ('clf', LogisticRegression(max_iter=1000))])"
      ]
     },
     "execution_count": 6,
     "metadata": {},
     "output_type": "execute_result"
    }
   ],
   "source": [
    "model = Pipeline([\n",
    "    ('count_vectorizer', CountVectorizer()),\n",
    "    ('clf', LogisticRegression(max_iter=1000))\n",
    "])\n",
    "\n",
    "model.fit(X_train, y_train)"
   ]
  },
  {
   "cell_type": "markdown",
   "metadata": {},
   "source": [
    "# Evaluate accuracy"
   ]
  },
  {
   "cell_type": "code",
   "execution_count": 7,
   "metadata": {},
   "outputs": [
    {
     "name": "stdout",
     "output_type": "stream",
     "text": [
      "Accuracy: 0.54\n",
      "\n",
      "Classification Report:\n",
      "                                      precision    recall  f1-score   support\n",
      "\n",
      "               Arznei- & Heilmittel       0.70      0.25      0.37        28\n",
      "           Arztbesuch / Krankenhaus       0.24      0.44      0.31        18\n",
      "                       Bankgebühren       0.86      0.73      0.79        26\n",
      "                      Barauszahlung       0.61      0.48      0.54        23\n",
      "                      Bareinzahlung       0.91      0.87      0.89        23\n",
      "                          Bausparen       0.41      0.68      0.51        22\n",
      "  Bekleidung / Schuhe / Accessoires       0.18      0.25      0.21        16\n",
      "     Berufsunfähigkeitsversicherung       0.41      0.45      0.43        20\n",
      " Bücher / Zeitungen / Zeitschriften       0.33      0.21      0.26        14\n",
      "                       Büromaterial       0.50      0.43      0.46        14\n",
      "                           Drogerie       0.50      0.44      0.47        25\n",
      "   Festgeld / Tagesgeld / Sparkonto       0.73      0.83      0.78        23\n",
      "                Festnetz & Internet       0.45      0.71      0.56        14\n",
      "                Freizeitaktivitäten       0.36      0.19      0.25        21\n",
      "                                Gas       1.00      0.77      0.87        31\n",
      "                             Gehalt       0.91      0.80      0.85        25\n",
      "            Haftpflichtversicherung       0.81      0.81      0.81        16\n",
      "                              Handy       0.75      0.55      0.63        22\n",
      "                    Haushaltsbedarf       0.53      0.47      0.50        19\n",
      "          Haushaltsdienstleistungen       0.85      0.69      0.76        16\n",
      "                Hausratversicherung       0.86      0.67      0.75        18\n",
      "                 Haustier (-bedarf)       0.45      0.39      0.42        23\n",
      "                Heimwerken & Garten       0.29      0.09      0.14        22\n",
      "                 Hotel & Unterkunft       0.20      0.24      0.22        17\n",
      "                   Immobilienkredit       0.55      0.48      0.51        23\n",
      "KFZ-Kredit / Leasingrate / KFZ-Kauf       0.67      0.59      0.62        17\n",
      "                       KFZ-Sonstige       0.46      0.26      0.33        23\n",
      "                   KFZ-Versicherung       1.00      0.65      0.79        20\n",
      "                   Kapitaleinkommen       0.88      0.74      0.80        19\n",
      "          Kapitallebensversicherung       0.53      0.62      0.57        16\n",
      "         Kinderbetreuung & -gruppen       0.50      0.26      0.34        23\n",
      "                    Kirche / Spende       0.90      0.69      0.78        26\n",
      "                     Kontentransfer       0.36      0.78      0.49        18\n",
      "         Kranken-Zusatzversicherung       0.73      0.53      0.62        15\n",
      "                Krankenversicherung       0.58      0.58      0.58        24\n",
      "             Kreditkartenabrechnung       0.89      0.89      0.89        18\n",
      "            Kredittilgung & -zinsen       0.50      0.71      0.59        17\n",
      "            Lebensmittel & Getränke       0.12      0.25      0.17        16\n",
      "                   Miete / Wohngeld       0.78      0.32      0.45        22\n",
      "                      Mieteinnahmen       0.57      0.78      0.66        27\n",
      "            Möbel & Haushaltsgeräte       0.25      0.18      0.21        22\n",
      "                      Pauschalreise       0.22      0.43      0.29        14\n",
      "                 Pflegeversicherung       0.88      0.78      0.82        18\n",
      "         Private Rentenversicherung       0.65      0.52      0.58        25\n",
      "           Rechtsschutzversicherung       0.62      0.80      0.70        10\n",
      "                  Reiseversicherung       0.82      0.75      0.78        24\n",
      "                    Rente & Pension       0.74      0.88      0.80        16\n",
      "            Restaurant / Cafe / Bar       0.31      0.20      0.24        20\n",
      "          Risiko-Lebensversicherung       0.44      0.47      0.46        17\n",
      "                         Spielwaren       0.27      0.30      0.29        20\n",
      "                    Sport & Fitness       0.08      0.07      0.07        15\n",
      "    Staatliche Leistung & Förderung       0.19      0.71      0.30        24\n",
      "                              Strom       0.88      0.88      0.88        17\n",
      "                 TV / Video / Musik       0.48      0.81      0.60        16\n",
      "                             Tanken       0.17      0.19      0.18        16\n",
      "            Taschengeld / Unterhalt       0.87      0.54      0.67        24\n",
      "   Taxi / ÖPNV / Car- & Bikesharing       0.53      0.35      0.42        23\n",
      "                   Tierversicherung       0.88      0.88      0.88        25\n",
      "                          Transport       0.58      0.37      0.45        19\n",
      "                 Unfallversicherung       0.85      0.85      0.85        13\n",
      "                          Unterhalt       0.80      0.55      0.65        22\n",
      " Unterhaltungselektronik & Software       0.47      0.60      0.53        15\n",
      "                  Wellness & Beauty       0.27      0.35      0.30        20\n",
      "   Wertgegenstände & andere Anlagen       0.65      0.59      0.62        22\n",
      "                   Wertpapieranlage       0.84      0.76      0.80        21\n",
      "            Wohngebäudeversicherung       0.79      0.50      0.61        22\n",
      "                    Wohnnebenkosten       0.28      0.25      0.26        20\n",
      "\n",
      "                           accuracy                           0.54      1340\n",
      "                          macro avg       0.58      0.54      0.54      1340\n",
      "                       weighted avg       0.59      0.54      0.55      1340\n",
      "\n"
     ]
    }
   ],
   "source": [
    "predictions = model.predict(X_test)\n",
    "\n",
    "accuracy = accuracy_score(y_test, predictions)\n",
    "classification_rep = classification_report(y_test, predictions)\n",
    "\n",
    "print(f'Accuracy: {accuracy:.2f}')\n",
    "print('\\nClassification Report:\\n', classification_rep)"
   ]
  },
  {
   "cell_type": "markdown",
   "metadata": {},
   "source": [
    "# Save model and evalutation"
   ]
  },
  {
   "cell_type": "code",
   "execution_count": 8,
   "metadata": {},
   "outputs": [],
   "source": [
    "current_datetime = datetime.now().strftime(\"%d.%m.%Y_%H:%M:%S\")\n",
    "\n",
    "directory_path = f\"model_{current_datetime}\"\n",
    "\n",
    "os.makedirs(directory_path)\n",
    "\n",
    "joblib.dump(model, f'./{directory_path}/trained_model.joblib')\n",
    "\n",
    "with open(f'./{directory_path}/model_evaluation.txt', 'w') as file:\n",
    "    file.write(f'Accuracy: {accuracy:.2f}\\n\\n')\n",
    "    file.write('Classification Report:\\n')\n",
    "    file.write(classification_rep)"
   ]
  }
 ],
 "metadata": {
  "kernelspec": {
   "display_name": "venv",
   "language": "python",
   "name": "python3"
  },
  "language_info": {
   "codemirror_mode": {
    "name": "ipython",
    "version": 3
   },
   "file_extension": ".py",
   "mimetype": "text/x-python",
   "name": "python",
   "nbconvert_exporter": "python",
   "pygments_lexer": "ipython3",
   "version": "3.10.12"
  }
 },
 "nbformat": 4,
 "nbformat_minor": 2
}
